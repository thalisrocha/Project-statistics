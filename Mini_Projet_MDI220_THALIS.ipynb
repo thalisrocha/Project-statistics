{
  "nbformat": 4,
  "nbformat_minor": 0,
  "metadata": {
    "colab": {
      "provenance": [],
      "collapsed_sections": [
        "nH0Zi4TUPEMp"
      ],
      "authorship_tag": "ABX9TyPXRh/pSLz5zhd1Wjk/Oo+w",
      "include_colab_link": true
    },
    "kernelspec": {
      "name": "python3",
      "display_name": "Python 3"
    },
    "language_info": {
      "name": "python"
    }
  },
  "cells": [
    {
      "cell_type": "markdown",
      "metadata": {
        "id": "view-in-github",
        "colab_type": "text"
      },
      "source": [
        "<a href=\"https://colab.research.google.com/github/thalisrocha/Project-statistics/blob/main/Mini_Projet_MDI220_THALIS.ipynb\" target=\"_parent\"><img src=\"https://colab.research.google.com/assets/colab-badge.svg\" alt=\"Open In Colab\"/></a>"
      ]
    },
    {
      "cell_type": "code",
      "source": [
        "import sklearn as sk\n",
        "import numpy as np\n",
        "import datetime\n",
        "import pandas as pd\n",
        "import seaborn as sn\n",
        "import matplotlib.pyplot as plt\n",
        "import scipy.stats as stats\n",
        "import math\n"
      ],
      "metadata": {
        "id": "qOdPhlWf8lH5"
      },
      "execution_count": null,
      "outputs": []
    },
    {
      "cell_type": "markdown",
      "source": [
        "# 1)"
      ],
      "metadata": {
        "id": "3-6aWXaaM6VM"
      }
    },
    {
      "cell_type": "code",
      "execution_count": null,
      "metadata": {
        "colab": {
          "base_uri": "https://localhost:8080/",
          "height": 81
        },
        "id": "vjxgr9Zu8OTQ",
        "outputId": "4fe853b1-582b-4aab-d8d5-7679f50e79eb"
      },
      "outputs": [
        {
          "output_type": "execute_result",
          "data": {
            "text/plain": [
              "        Date       Location  Cost (millions 2013US$)  INES  Smyth Magnitude  \\\n",
              "0  4/26/1986  Kiev, Ukraine                 259336.0   7.0              8.0   \n",
              "\n",
              "  Region                                        Description  Fatalities  \n",
              "0     EE  Mishandled reactor safety test at Chernobyl nu...        4056  "
            ],
            "text/html": [
              "\n",
              "  <div id=\"df-1ff7fbe7-5d4b-4b93-a8af-1dd0c26d532f\">\n",
              "    <div class=\"colab-df-container\">\n",
              "      <div>\n",
              "<style scoped>\n",
              "    .dataframe tbody tr th:only-of-type {\n",
              "        vertical-align: middle;\n",
              "    }\n",
              "\n",
              "    .dataframe tbody tr th {\n",
              "        vertical-align: top;\n",
              "    }\n",
              "\n",
              "    .dataframe thead th {\n",
              "        text-align: right;\n",
              "    }\n",
              "</style>\n",
              "<table border=\"1\" class=\"dataframe\">\n",
              "  <thead>\n",
              "    <tr style=\"text-align: right;\">\n",
              "      <th></th>\n",
              "      <th>Date</th>\n",
              "      <th>Location</th>\n",
              "      <th>Cost (millions 2013US$)</th>\n",
              "      <th>INES</th>\n",
              "      <th>Smyth Magnitude</th>\n",
              "      <th>Region</th>\n",
              "      <th>Description</th>\n",
              "      <th>Fatalities</th>\n",
              "    </tr>\n",
              "  </thead>\n",
              "  <tbody>\n",
              "    <tr>\n",
              "      <th>0</th>\n",
              "      <td>4/26/1986</td>\n",
              "      <td>Kiev, Ukraine</td>\n",
              "      <td>259336.0</td>\n",
              "      <td>7.0</td>\n",
              "      <td>8.0</td>\n",
              "      <td>EE</td>\n",
              "      <td>Mishandled reactor safety test at Chernobyl nu...</td>\n",
              "      <td>4056</td>\n",
              "    </tr>\n",
              "  </tbody>\n",
              "</table>\n",
              "</div>\n",
              "      <button class=\"colab-df-convert\" onclick=\"convertToInteractive('df-1ff7fbe7-5d4b-4b93-a8af-1dd0c26d532f')\"\n",
              "              title=\"Convert this dataframe to an interactive table.\"\n",
              "              style=\"display:none;\">\n",
              "        \n",
              "  <svg xmlns=\"http://www.w3.org/2000/svg\" height=\"24px\"viewBox=\"0 0 24 24\"\n",
              "       width=\"24px\">\n",
              "    <path d=\"M0 0h24v24H0V0z\" fill=\"none\"/>\n",
              "    <path d=\"M18.56 5.44l.94 2.06.94-2.06 2.06-.94-2.06-.94-.94-2.06-.94 2.06-2.06.94zm-11 1L8.5 8.5l.94-2.06 2.06-.94-2.06-.94L8.5 2.5l-.94 2.06-2.06.94zm10 10l.94 2.06.94-2.06 2.06-.94-2.06-.94-.94-2.06-.94 2.06-2.06.94z\"/><path d=\"M17.41 7.96l-1.37-1.37c-.4-.4-.92-.59-1.43-.59-.52 0-1.04.2-1.43.59L10.3 9.45l-7.72 7.72c-.78.78-.78 2.05 0 2.83L4 21.41c.39.39.9.59 1.41.59.51 0 1.02-.2 1.41-.59l7.78-7.78 2.81-2.81c.8-.78.8-2.07 0-2.86zM5.41 20L4 18.59l7.72-7.72 1.47 1.35L5.41 20z\"/>\n",
              "  </svg>\n",
              "      </button>\n",
              "      \n",
              "  <style>\n",
              "    .colab-df-container {\n",
              "      display:flex;\n",
              "      flex-wrap:wrap;\n",
              "      gap: 12px;\n",
              "    }\n",
              "\n",
              "    .colab-df-convert {\n",
              "      background-color: #E8F0FE;\n",
              "      border: none;\n",
              "      border-radius: 50%;\n",
              "      cursor: pointer;\n",
              "      display: none;\n",
              "      fill: #1967D2;\n",
              "      height: 32px;\n",
              "      padding: 0 0 0 0;\n",
              "      width: 32px;\n",
              "    }\n",
              "\n",
              "    .colab-df-convert:hover {\n",
              "      background-color: #E2EBFA;\n",
              "      box-shadow: 0px 1px 2px rgba(60, 64, 67, 0.3), 0px 1px 3px 1px rgba(60, 64, 67, 0.15);\n",
              "      fill: #174EA6;\n",
              "    }\n",
              "\n",
              "    [theme=dark] .colab-df-convert {\n",
              "      background-color: #3B4455;\n",
              "      fill: #D2E3FC;\n",
              "    }\n",
              "\n",
              "    [theme=dark] .colab-df-convert:hover {\n",
              "      background-color: #434B5C;\n",
              "      box-shadow: 0px 1px 3px 1px rgba(0, 0, 0, 0.15);\n",
              "      filter: drop-shadow(0px 1px 2px rgba(0, 0, 0, 0.3));\n",
              "      fill: #FFFFFF;\n",
              "    }\n",
              "  </style>\n",
              "\n",
              "      <script>\n",
              "        const buttonEl =\n",
              "          document.querySelector('#df-1ff7fbe7-5d4b-4b93-a8af-1dd0c26d532f button.colab-df-convert');\n",
              "        buttonEl.style.display =\n",
              "          google.colab.kernel.accessAllowed ? 'block' : 'none';\n",
              "\n",
              "        async function convertToInteractive(key) {\n",
              "          const element = document.querySelector('#df-1ff7fbe7-5d4b-4b93-a8af-1dd0c26d532f');\n",
              "          const dataTable =\n",
              "            await google.colab.kernel.invokeFunction('convertToInteractive',\n",
              "                                                     [key], {});\n",
              "          if (!dataTable) return;\n",
              "\n",
              "          const docLinkHtml = 'Like what you see? Visit the ' +\n",
              "            '<a target=\"_blank\" href=https://colab.research.google.com/notebooks/data_table.ipynb>data table notebook</a>'\n",
              "            + ' to learn more about interactive tables.';\n",
              "          element.innerHTML = '';\n",
              "          dataTable['output_type'] = 'display_data';\n",
              "          await google.colab.output.renderOutput(dataTable, element);\n",
              "          const docLink = document.createElement('div');\n",
              "          docLink.innerHTML = docLinkHtml;\n",
              "          element.appendChild(docLink);\n",
              "        }\n",
              "      </script>\n",
              "    </div>\n",
              "  </div>\n",
              "  "
            ]
          },
          "metadata": {},
          "execution_count": 7
        }
      ],
      "source": [
        "nuclear = pd.read_csv(open(\"NuclearPowerAccidents2016.csv\"))\n",
        "nuclear.head(1)"
      ]
    },
    {
      "cell_type": "markdown",
      "source": [
        "Le diagramme Quantile-Quantile est un outil graphique permettant d'évaluer\n",
        "la pertinence de l'ajustement d'une distribution donnée à un modèle\n",
        "théorique. Il permet également de comparer deux distributions que l'on estime semblables. Le therme quantile-quantile provient du fait que l'on compare la position\n",
        "de certains quantiles (les valeurs qui divisent un jeu de données en\n",
        "intervalles de même probabilités) avec leur position danss la population théorique."
      ],
      "metadata": {
        "id": "kCE_ZgPFe4QQ"
      }
    },
    {
      "cell_type": "markdown",
      "source": [
        "## 1.1"
      ],
      "metadata": {
        "id": "oREuKZ_fQAcB"
      }
    },
    {
      "cell_type": "code",
      "source": [
        "# v_cost = nuclear['Cost (millions 2013US$)'].dropna()\n",
        "\n",
        "nuclear['Date'] = pd.to_datetime(nuclear['Date'], format = '%m/%d/%Y')\n",
        "v_cost = nuclear[(nuclear['Date'] < datetime.datetime(1979, 3, 28)) & (nuclear['Cost (millions 2013US$)'].notnull())]\n",
        "v_cost = v_cost['Cost (millions 2013US$)']\n",
        "print(v_cost.size)"
      ],
      "metadata": {
        "colab": {
          "base_uri": "https://localhost:8080/"
        },
        "id": "R9s4MKjX-we9",
        "outputId": "069ab47c-aa8b-483a-8314-cdde27278dba"
      },
      "execution_count": null,
      "outputs": [
        {
          "output_type": "stream",
          "name": "stdout",
          "text": [
            "55\n"
          ]
        }
      ]
    },
    {
      "cell_type": "markdown",
      "source": [
        "## 1.2"
      ],
      "metadata": {
        "id": "jnZbmSW5RwtH"
      }
    },
    {
      "cell_type": "markdown",
      "source": [
        "Par définition, pour les lois qui admettent une densité de probabilité strictement positive sur un intervalle et nulle ailleurs, comme la loi normale, il est possible de trouver un intervalle ouvert $I$ tel que la fonction de répartition de la loi considérée réalise une bijection de $I$ sur l'intervalle ouvert ]0,1[.\n",
        "\n",
        "Autrement dit, pour tout p strictement compris entre 0 et 1, il existe un unique élément x de $ I $ pour lequel $F_{x}(x) = p $ ou $ P[X \\leq x] =p $. Ce nombre $x$ est alors appelé le p-quantile de la loi de $X$ et on peut le calculer par inversion de la fonction de répartition.\n",
        "\n",
        "Si $X$ suit la loi normale $\\mathcal{N}(\\mu,\\,\\sigma^{2}) (\\sigma >0)$, $F_{X} $ réalise une bijection de $I=]-∞, +∞[$ sur $]0,1[$ et, pour tout $p ϵ ]0,1[$ , le p-quantile de $X$ est:\n",
        "\n",
        "$$F_{X}^{-1}(p; μ, σ^{2}) = μ + σΦ^{-1} (p) $$\n",
        "\n",
        "où $Φ^{-1}$ est la bijection réciproque de la fonction de répartition de la loi centrée réduite. Lorsque $μ= 0$ et $σ = 1$:\n",
        "\n",
        "$$F_{X}^{-1}(p; 0, 1) = Φ^{-1} (p) $$\n",
        "\n",
        "Alors:\n",
        "\n",
        "$$F_{X}^{-1}(p; μ, σ^{2}) = μ + \\sqrt{σ^{2}}F_{X}^{-1}(p; 0, 1) $$\n",
        "\n",
        "\n",
        "En sachant que la distribution cumulative d'une loi normale est égale à:\n",
        "\n",
        "$ F(x) = \\frac{1}{2} [1+erf(\\frac{x-μ}{σ\\sqrt{2}})]$\n",
        "\n",
        "En remplaçant $F(x)$ et $x$ pour $p$ et $F^{-1}(p)$, respectivemment:\n",
        "\n",
        "$p = \\frac{1}{2} [1+erf(\\frac{F^{-1}(p)-μ}{σ\\sqrt{2}})]$\n",
        "\n",
        "$2p = 1 +erf(\\frac{F^{-1}(p)-μ}{σ\\sqrt{2}})$\n",
        "\n",
        "$erf(2p - 1)^{-1}=\\frac{F^{-1}(p)-μ}{σ\\sqrt{2}}$\n",
        "\n",
        "$ F^{-1}(p) = σ\\sqrt{2} erf(2p - 1)^{-1} +μ$\n",
        "\n",
        "Pour une loi normale centrée reduite\n",
        "$\\sigma = 1$ et $\\mu = 0$, alors:\n",
        "\n",
        "$ F_{(0,1)}^{-1}(p) = \\sqrt{2} erf(2p - 1)^{-1}$\n",
        "\n",
        "Alors, pour une valeur arbitraire $p \\in (0,1)$;\n",
        "\n",
        "$$F^{-1}(p) = μ + \\sqrt{σ^{2}}F_{(0,1)}^{-1}(p) $$\n",
        "\n"
      ],
      "metadata": {
        "id": "_dG0faZNroYP"
      }
    },
    {
      "cell_type": "code",
      "source": [
        "normale=np.random.normal(15,3.2,55)\n",
        "norm_params = stats.norm.fit(normale)\n",
        "\n",
        "stats.probplot(normale, dist='norm', sparams=norm_params,plot=plt)\n",
        "plt.title('QQplot')\n",
        "plt.ylabel('Cost (millions 2013US$)')\n",
        "plt.xlabel('Normal distribution')\n",
        "plt.show()"
      ],
      "metadata": {
        "colab": {
          "base_uri": "https://localhost:8080/",
          "height": 295
        },
        "id": "HJy7q121mXoV",
        "outputId": "d2e72d88-3736-4a6d-e115-0e5e4b5a1e1d"
      },
      "execution_count": null,
      "outputs": [
        {
          "output_type": "display_data",
          "data": {
            "text/plain": [
              "<Figure size 432x288 with 1 Axes>"
            ],
            "image/png": "[encoded data removed]"
          },
          "metadata": {
            "needs_background": "light"
          }
        }
      ]
    },
    {
      "cell_type": "markdown",
      "source": [
        "QQ-plot de données pour la loi normale, en utilisant la fonction probplot:"
      ],
      "metadata": {
        "id": "oofG6nOx-jL7"
      }
    },
    {
      "cell_type": "code",
      "source": [
        "norm_params = stats.norm.fit(v_cost)\n",
        "\n",
        "stats.probplot(v_cost, dist='norm', sparams=norm_params,plot=plt)\n",
        "plt.title('QQplot')\n",
        "plt.ylabel('Cost (millions 2013US$)')\n",
        "plt.xlabel('Normal distribution')\n",
        "plt.show()"
      ],
      "metadata": {
        "colab": {
          "base_uri": "https://localhost:8080/",
          "height": 295
        },
        "id": "y58Def-4P8Oj",
        "outputId": "5457f578-28ce-4643-bf12-cc6dfa0cef12"
      },
      "execution_count": null,
      "outputs": [
        {
          "output_type": "display_data",
          "data": {
            "text/plain": [
              "<Figure size 432x288 with 1 Axes>"
            ],
            "image/png": "[encoded data removed]"
          },
          "metadata": {
            "needs_background": "light"
          }
        }
      ]
    },
    {
      "cell_type": "markdown",
      "source": [
        "## 1.3"
      ],
      "metadata": {
        "id": "dZj75JxC-1s2"
      }
    },
    {
      "cell_type": "markdown",
      "source": [
        "La distribution cumulative d'une loi exponentielle est donnée par:\n",
        "\n",
        "$\n",
        "F(x;λ)=\\begin{cases}\n",
        "λe^{λx} & \\text{si} & x \\geq 0\\\\\n",
        "0 & \\text{si} & x<0\\\\\n",
        "\\end{cases}\n",
        "$\n",
        "\n",
        "Ainsi comme dans la question 1.2:\n",
        "\n",
        "$p = 1- e^{-\\lambda F^{-1}(p;λ)}$\n",
        "\n",
        "$p -1 = e^{-\\lambda F^{-1}(p;λ)}$\n",
        "\n",
        "$log (p-1) =  -\\lambda F^{-1}(p;λ)$\n",
        "\n",
        "$F^{-1}(p;λ)= - \\frac{log (p-1)}{λ}$\n",
        "\n",
        "Pour $\\lambda = 1$:\n",
        "\n",
        "$F^{-1}(p;1)= - log (p-1)$\n",
        "\n",
        "Alors:\n",
        "\n",
        "$F^{-1}(p;λ)= \\frac{F^{-1}(p;1)}{λ}$\n",
        "\n",
        "\n"
      ],
      "metadata": {
        "id": "L3dJhXKs_2xb"
      }
    },
    {
      "cell_type": "code",
      "source": [
        "norm_params = stats.expon.fit(v_cost)\n",
        "\n",
        "stats.probplot(v_cost, dist='expon', sparams=norm_params,plot=plt)\n",
        "plt.title('QQplot')\n",
        "plt.ylabel('Cost (millions 2013US$)')\n",
        "plt.xlabel('Normal distribution')\n",
        "plt.show()"
      ],
      "metadata": {
        "id": "Kapz2q1H-32j",
        "colab": {
          "base_uri": "https://localhost:8080/",
          "height": 295
        },
        "outputId": "7ee9fd5a-e856-4f9b-b138-48297c64bae7"
      },
      "execution_count": null,
      "outputs": [
        {
          "output_type": "display_data",
          "data": {
            "text/plain": [
              "<Figure size 432x288 with 1 Axes>"
            ],
            "image/png": "[encoded data removed]"
          },
          "metadata": {
            "needs_background": "light"
          }
        }
      ]
    },
    {
      "cell_type": "markdown",
      "source": [
        "## 1.4"
      ],
      "metadata": {
        "id": "ZdKUDGiAMvfV"
      }
    },
    {
      "cell_type": "markdown",
      "source": [
        "Il est possible de constater, en observant le Q-Q plot de données pour la loi normale, que le modèle gaussien ne représente pas bien les données, vu que la courbe composée de points bleus ne correspond pas très bien à la ligne en rouge.\n",
        "\n",
        "D'autre part, le modèle exponentiel correspond mieux aux données, étant donné que le Q-Q plot dans ce cas est très similaire à la droite.\n",
        "\n",
        "Alors, nous pouvons conclure que la loi exponentielle semble plus pausible pour les données."
      ],
      "metadata": {
        "id": "M3PsmKmV3qeh"
      }
    },
    {
      "cell_type": "markdown",
      "source": [
        "# 2)"
      ],
      "metadata": {
        "id": "RW5dM7_QNAkx"
      }
    },
    {
      "cell_type": "markdown",
      "source": [
        "## 2.1"
      ],
      "metadata": {
        "id": "l4OLQ62gO2Tr"
      }
    },
    {
      "cell_type": "markdown",
      "source": [
        "La densité de probabilité de la loi exponentielle est donnée par:\n",
        "\n",
        "$\n",
        "f(x)=\\begin{cases}\n",
        "λe^{λx} & \\text{si} & x \\geq 0\\\\\n",
        "0 & \\text{si} & x<0\\\\\n",
        "\\end{cases}\n",
        "$\n",
        "\n",
        "La vraisemblance est exprimé par:\n",
        "\n",
        "$\n",
        "\\begin{equation*}\n",
        "L(x_{1},... ,x_{n}|\\lambda) = \\prod\\limits_{i=1}^{n} P_{\\lambda}(x_{i})\n",
        "\\end{equation*}\n",
        "$\n",
        "\n",
        "$L(λ)=λ^{n}e^{-λ\\sum\\limits_{k=1}^{n}x_{k}}$\n",
        "\n",
        "La log-vraisemblance est alors:\n",
        "\n",
        "$\n",
        "l(\\lambda) = log(L(\\lambda))\n",
        "$\n",
        "\n",
        "$\n",
        "l(λ) = log(\\lambda^{n}e^{-λ\\sum\\limits_{k=1}^{n}x_{k}})\n",
        "$\n",
        "\n",
        "$\n",
        "l(λ) = log(λ^{n}) + log(e^{-\\lambda \\sum\\limits_{k=1}^{n}x_{k}})\n",
        "$\n",
        "\n",
        "$\n",
        "l(λ) = n × log(λ) - λ {\\sum\\limits_{k=1}^{n}x_{k}}\n",
        "$\n",
        "\n",
        "Et finalemente, l'estimateur du maximum de vraisemblance:\n",
        "\n",
        "$\n",
        "\\frac{\\partial{l(\\lambda)}}{\\partial{λ}} = n \\frac{1}{λ} - \\sum\\limits_{k=1}^{n}x_{k} = 0\n",
        "$\n",
        "\n",
        "$\n",
        "\\frac{1}{λ} = \\frac{1}{n} \\sum\\limits_{k=1}^{n}x_{k}\n",
        "$\n",
        "\n",
        "$\n",
        "\\frac{1}{λ} = \\bar{X} \\text{(moyenne empirique)}\n",
        "$\n",
        "\n",
        "L'estimateur du maximum de vraisemblance est l'inverse de la moyenne empirique:\n",
        "\n",
        "$\n",
        "\\hat{λ}_{n} = \\frac{1}{\\bar{X}}\n",
        "$\n"
      ],
      "metadata": {
        "id": "nq_JtM6NQE-m"
      }
    },
    {
      "cell_type": "code",
      "source": [
        "emv = (v_cost.count()/v_cost.sum())\n",
        "print('EMV de lambda =', emv)"
      ],
      "metadata": {
        "id": "23BE5C__ND6S",
        "colab": {
          "base_uri": "https://localhost:8080/"
        },
        "outputId": "759e2f9e-a248-4bdb-c0b7-275e7089e6ac"
      },
      "execution_count": null,
      "outputs": [
        {
          "output_type": "stream",
          "name": "stdout",
          "text": [
            "EMV de lambda = 0.0013767725947156965\n"
          ]
        }
      ]
    },
    {
      "cell_type": "markdown",
      "source": [
        "## 2.2"
      ],
      "metadata": {
        "id": "FfSxi2ilO7sd"
      }
    },
    {
      "cell_type": "code",
      "source": [
        "X = np.linspace(v_cost.min(), v_cost.max())\n",
        "den_exp = emv* np.exp(-(emv*X))\n",
        "\n",
        "sn.histplot(v_cost, stat=\"density\",color=\"red\", label=\"Histogramme\")\n",
        "plt.plot(X, den_exp, color='blue', label = \"Densité\")\n",
        "plt.legend()\n",
        "plt.title(\"Histogramme de données et densité de probabilité\")\n",
        "plt.ylabel(\"Distribution\")\n",
        "plt.show()"
      ],
      "metadata": {
        "colab": {
          "base_uri": "https://localhost:8080/",
          "height": 295
        },
        "id": "hpbB1kw8O6o1",
        "outputId": "ef081329-2694-48f9-eb2a-ba0b2bad6b3d"
      },
      "execution_count": null,
      "outputs": [
        {
          "output_type": "display_data",
          "data": {
            "text/plain": [
              "<Figure size 432x288 with 1 Axes>"
            ],
            "image/png": "[encoded data removed]"
          },
          "metadata": {
            "needs_background": "light"
          }
        }
      ]
    },
    {
      "cell_type": "markdown",
      "source": [
        "## 2.3"
      ],
      "metadata": {
        "id": "1clD1JLMO_Er"
      }
    },
    {
      "cell_type": "markdown",
      "source": [
        "Compte tenu des conditions de régularité, la borne de Cramér-Rao est définie comme la variance minimale qu'un estimateur peut atteindre et est exprimée pour l'expression suivante:\n",
        "\n",
        "$\n",
        "Var_{λ}[S(X)] \\geq \\frac{g'(λ)^{2}}{I(λ)}\n",
        "$\n",
        "\n",
        "où $I(λ)$ est l'information de Fisher.\n",
        "\n",
        "Le biais de l'estimateur d'un  paramètre est la différence entre la valeur de l'espérance de cet estimateur et la valeur à estimer.\n",
        "\n",
        "$\n",
        "T_{1}(X) =  \\frac{1}{n} \\sum\\limits_{i=1}^{n}X_{i}\n",
        "$\n",
        "\n",
        "$\n",
        "E(T_{1}(X)) =  E(\\frac{1}{n} \\sum\\limits_{i=1}^{n}X_{i})\n",
        "$\n",
        "\n",
        "$\n",
        "E(T_{1}(X)) =  \\frac{1}{n} \\sum\\limits_{i=1}^{n}E(X_{i})\n",
        "$\n",
        "\n",
        "$\n",
        "E(T_{1}(X)) =  \\frac{1}{n} \\times \\frac{n}{λ}\n",
        "$\n",
        "\n",
        "$\n",
        "E(T_{1}(X)) = \\frac{1}{λ} = g_{1}(\\lambda)\n",
        "$\n",
        "\n",
        "\n",
        "Alors, selon le calcul ci-dessus, l'estimateur $T_{1}(X)$ est en effet non-biaisé. La dérivée au carré du paramètre $g_{1}(\\lambda)$ est:\n",
        "\n",
        "$\n",
        "g'_{1}(λ) = - \\frac{1}{λ^2}\n",
        "$\n",
        "\n",
        "$\n",
        "g'_{1}(\\lambda)^{2} = \\frac{1}{λ^4}\n",
        "$\n",
        "\n",
        "L'information de Fisher est donnée par:\n",
        "\n",
        "$\n",
        "I(λ) = E_{λ}(\\frac{∂^{2} log(f(X;λ))}{∂λ^{2}}^{2})\n",
        "$\n",
        "\n",
        "$\n",
        "I(λ) = E_{λ}(\\frac{∂(log(λ) - λX)}{∂λ}^{2})\n",
        "$\n",
        "\n",
        "$\n",
        "= E_{λ}((\\frac{1}{λ}-X)^2)\n",
        "$\n",
        "\n",
        "$\n",
        "= E_{λ}(\\frac{1}{λ^{2}}-\\frac{2X}{λ}+X^2)\n",
        "$\n",
        "\n",
        "$\n",
        "= E_{λ}(\\frac{1}{λ^{2}}) - \\frac{2}{λ} E(X) +E(X^2)\n",
        "$\n",
        "\n",
        "$\n",
        "= E_{λ}(\\frac{1}{λ^{2}}) - \\frac{2}{λ} E(X) +(Var(X)+E(X)^{2})\n",
        "$\n",
        "\n",
        "\n",
        "Sachant que dans le cas de la loi exponentielle l'espérance est égale à $\\frac{1}{λ}$ et la variance à $\\frac{1}{\\lambda^2}$, alors l'information de Fisher s'écrit de la façon suivante:\n",
        "\n",
        "$\n",
        "I(λ) = \\frac{1}{λ^2}\n",
        "$\n",
        "\n",
        "$\n",
        "I_{n}(\\lambda) = n \\frac{1}{λ^2}  \\text{(loi exponentielle)}\n",
        "$\n",
        "\n",
        "Finalement, il est possible d'établir la variance de $T_{1}(X)$:\n",
        "\n",
        "$Var(T_{1}(X)) = Var( \\frac{1}{n} \\sum\\limits_{i=1}^{n}X_{i})$\n",
        "\n",
        "$= \\frac{1}{n^2} \\sum\\limits_{i=1}^{n}Var(X_{i})$\n",
        "\n",
        "$\n",
        "= \\frac{1}{n^2} \\frac{n}{\\lambda^2}\n",
        "$\n",
        "\n",
        "$\n",
        "= \\frac{1}{n\\lambda^2} < ∞\n",
        "$\n",
        "\n",
        "Et pour démontrer que T_{1}(X) est un estimateur efficace il suffit de vérifier si l'inégalité de Cramér-Rao est respecté:\n",
        "\n",
        "$\n",
        "Var_{λ}[S(X)] \\geq \\frac{g'(λ)^{2}}{I(λ)}\n",
        "$\n",
        "\n",
        "\n",
        "$\n",
        "\\frac{1}{n\\lambda^2} \\geq \\frac{\\frac{1}{λ^4}}{\\frac{n}{λ^2}}\n",
        "$\n",
        "\n",
        "$\n",
        "\\frac{1}{n\\lambda^2} = \\frac{1}{n\\lambda^2}\n",
        "$\n",
        "\n",
        "La variance de $T_{1}(X)$ atteint la borne de Cramér-Rao, alors $T_{1}(X)$ est un estimateur efficace pour $g_{1}(\\lambda)$."
      ],
      "metadata": {
        "id": "GM0ofr12_QJZ"
      }
    },
    {
      "cell_type": "markdown",
      "source": [
        "## 2.4"
      ],
      "metadata": {
        "id": "nH0Zi4TUPEMp"
      }
    },
    {
      "cell_type": "markdown",
      "source": [
        "Selon l'exercice 2.1:\n",
        "\n",
        "$\n",
        "\\frac{1}{λ} = \\frac{1}{n} \\sum\\limits_{k=1}^{n}x_{k}\n",
        "$"
      ],
      "metadata": {
        "id": "IoeqloFZmemn"
      }
    },
    {
      "cell_type": "code",
      "source": [
        "T1 = v_cost.sum()/v_cost.count()\n",
        "print('g1(λ) =', T1)"
      ],
      "metadata": {
        "colab": {
          "base_uri": "https://localhost:8080/"
        },
        "id": "74L7hKRpPEMq",
        "outputId": "1b6ab2b6-4120-463a-9c2c-b8b10091ae83"
      },
      "execution_count": null,
      "outputs": [
        {
          "output_type": "stream",
          "name": "stdout",
          "text": [
            "g1(λ) = 726.3363636363637\n"
          ]
        }
      ]
    },
    {
      "cell_type": "markdown",
      "source": [
        "## 2.5"
      ],
      "metadata": {
        "id": "v33RFNDoO_N0"
      }
    },
    {
      "cell_type": "markdown",
      "source": [
        "Dans l'exercice 2.3 il a déjà été vérifié que l'estimateur $T_{1}(X)$ est non-biaisé. Il faut calculer le biais du nouvel estimateur:\n",
        "\n",
        "$\n",
        "b(\\lambda, \\tilde{T}_{1,\\eta}(X)) = E( \\tilde{T}_{1,\\eta}(X) - g_{1}(\\lambda))\n",
        "$\n",
        "\n",
        "$\n",
        "= E(\\tilde{T}_{1,\\eta}(X)) - g_{1}(\\lambda)\n",
        "$\n",
        "\n",
        "$\n",
        "= \\eta E(T_{1}(X)) - g_{1}(\\lambda)\n",
        "$\n",
        "\n",
        "$\n",
        "= \\eta g_{1}(\\lambda) - g_{1}(\\lambda)\n",
        "$\n",
        "\n",
        "$\n",
        "= g_{1}(\\lambda)(\\eta - 1)\n",
        "$\n",
        "\n",
        "$\n",
        "= \\frac{1}{λ}(\\eta - 1)\n",
        "$\n",
        "\n",
        "Le risque quadratique $R(\\lambda, T_{1}(X))$ est calculé:\n",
        "\n",
        "$\n",
        "R(λ, T_{1}(X)) = E((T_{1}(X)-g_{1}(λ))^2)\n",
        "$\n",
        "\n",
        "$\n",
        "= b(\\lambda, T_{1}(X))^2 + Var(T_{1}(X))\n",
        "$\n",
        "\n",
        "$\n",
        "= Var(T_{1}(X)) = \\frac{1}{n\\lambda^2}\n",
        "$\n",
        "\n",
        "Le risque quadratique $R(\\lambda, \\tilde{T}_{1,\\eta}(X))$:\n",
        "\n",
        "$\n",
        "R(\\lambda, \\tilde{T}_{1,\\eta}(X)) = E((\\tilde{T}_{1,\\eta}(X)-g_{1}(λ))^2)\n",
        "$\n",
        "\n",
        "$\n",
        "= b(\\lambda, \\tilde{T}_{1,η}(X))^2 + Var(\\tilde{T}_{1,η}(X))\n",
        "$\n",
        "\n",
        "$\n",
        "= (\\frac{1}{λ}(\\eta - 1))^2 +  Var(\\eta T_{1}(X))\n",
        "$\n",
        "\n",
        "$\n",
        "= (\\frac{1}{λ}(\\eta - 1))^2 + \\eta^2 Var(T_{1}(X))\n",
        "$\n",
        "\n",
        "$\n",
        "= \\frac{1}{λ^2} ((\\eta - 1)^2 + \\frac{\\eta^2}{n})\n",
        "$\n",
        "\n",
        "Dans ces conditions, il est possible de préciser les valeurs de $\\eta$ pour lesquels:\n",
        "\n",
        "$R(\\lambda, \\tilde{T}_{1,\\eta}(X))$ < $R(\\lambda, T_{1}(X))$\n",
        "\n",
        "$\n",
        "\\frac{1}{λ^2} ((\\eta - 1)^2 + \\frac{\\eta^2}{n}) < \\frac{1}{n\\lambda^2}\n",
        "$\n",
        "\n",
        "$\n",
        " \\frac{(\\eta - 1)^2}{λ^2} + \\frac{\\eta^2 - 1}{n\\lambda^2} < 0\n",
        "$\n",
        "\n",
        "$\n",
        " (\\eta - 1)((\\eta - 1) + \\frac{\\eta + 1}{n}) < 0\n",
        "$\n",
        "\n",
        "$\n",
        " (\\eta - 1)( \\frac{n(\\eta - 1) +(\\eta + 1)}{n}) < 0\n",
        "$\n",
        "\n",
        "$\n",
        "(\\eta - 1) [\\eta(n + 1) +(1-n)] < 0\n",
        "$\n",
        "\n",
        "$\n",
        "(\\eta - 1) [\\eta +\\frac{(1-n)}{(n + 1)}] < 0\n",
        "$\n",
        "\n",
        "$\n",
        "(\\eta - 1) [\\eta -\\frac{(n-1)}{(n + 1)}] < 0\n",
        "$\n",
        "\n",
        "Pour que l'inegalité soit satisfaite il existe deux possibilités:\n",
        "\n",
        "$\n",
        "(i)=\\begin{cases}\n",
        "\\eta   &  < 1\\\\\n",
        "\\eta   & > \\frac{(n-1)}{(n + 1)}\\\\\n",
        "\\end{cases}\n",
        "$\n",
        "\n",
        "$\n",
        "(ii)=\\begin{cases}\n",
        "\\eta &  > 1\\\\\n",
        "\\eta & < \\frac{(n-1)}{(n + 1)}\\\\\n",
        "\\end{cases}\n",
        "$\n",
        "\n",
        "Le deuxième cas n'est jamais satisfait car $∄η ∈ 𝐑 $ tel que $(ii)$ soit satisfait. Ainsi, l'intervalle des valeurs de $η$ pour que $R(\\lambda, \\tilde{T}_{1,\\eta}(X))$ < $R(\\lambda, T_{1}(X))$ est égal à:\n",
        "\n",
        "\n",
        "$\n",
        "η ∈ ](\\frac{n-1}{n + 1}), 1[\n",
        "$\n",
        "\n",
        "Le résultat n'est pas en contradiction avec la question précédente, étant donné que l'estimateur $T_{1}(X)$ non-biaisé  est Uniformément de Variance Minimale parmi les estimateurs sans Biais (UMVB), c'est-à-dire, optimal parmi les estimateurs **sans biais**, tandis que l'estimateur $\\tilde{T}_{1}(X)$ est biaisé.\n",
        "\n"
      ],
      "metadata": {
        "id": "UMV-CqVcvnff"
      }
    },
    {
      "cell_type": "markdown",
      "source": [
        "## 2.6"
      ],
      "metadata": {
        "id": "7413Mw7YPK-3"
      }
    },
    {
      "cell_type": "markdown",
      "source": [
        "Soit $X$ une variable aléatoire qui suit la loi exponentielle et soit $m$ la médiane, par définition la médiane est exprimée de la façon suivante:\n",
        "\n",
        "$\n",
        "m(\\lambda) = \\frac{log(2)}{λ}\n",
        "$\n",
        "\n",
        "Soit $\\tilde{T}_{1,\\eta}(X)$ sans biais de la médiane, alors:\n",
        "\n",
        "$b(\\lambda, \\tilde{T}_{1,\\eta}(X))=0$\n",
        "\n",
        "$E(\\tilde{T}_{1,\\eta}(X) - m(λ)) = 0$\n",
        "\n",
        "$E(\\tilde{T}_{1,\\eta}(X)) - m(λ) = 0$\n",
        "\n",
        "$E(\\tilde{T}_{1,\\eta}(X)) =  m(λ)$\n",
        "\n",
        "$\\eta E(T_{1}(X)) =  \\frac{log(2)}{λ}$\n",
        "\n",
        "$\\eta \\frac{1}{λ} =  \\frac{log(2)}{λ}$\n",
        "\n",
        "$\\eta  = log(2)$\n",
        "\n"
      ],
      "metadata": {
        "id": "pUd1YI6locjP"
      }
    },
    {
      "cell_type": "code",
      "source": [
        "η = np.log(2)\n",
        "m_λ = η*T1\n",
        "\n",
        "X = np.median(v_cost)\n",
        "\n",
        "print('Estimateur sans biais de la médiane = ', m_λ)\n",
        "print('Médian Empirique = ',X)"
      ],
      "metadata": {
        "colab": {
          "base_uri": "https://localhost:8080/"
        },
        "id": "-RjJ9HwYPK-5",
        "outputId": "b21b4d6d-d767-4c6e-e709-f91edd6013bf"
      },
      "execution_count": null,
      "outputs": [
        {
          "output_type": "stream",
          "name": "stdout",
          "text": [
            "Estimateur sans biais de la médiane =  503.4580025927086\n",
            "Médian Empirique =  89.9\n"
          ]
        }
      ]
    },
    {
      "cell_type": "markdown",
      "source": [
        "## 2.7"
      ],
      "metadata": {
        "id": "V66WTNenPPBi"
      }
    },
    {
      "cell_type": "markdown",
      "source": [
        "$R(\\lambda, \\tilde{T}_{1,\\eta}(X))$ < $R(\\lambda, T_{1}(X))$\n",
        "\n",
        "$\n",
        "\\frac{1}{λ^2} (\\frac{n}{n} (\\eta - 1)^2 + \\frac{\\eta^2}{n}) < \\frac{1}{n\\lambda^2}\n",
        "$\n",
        "\n",
        "$\n",
        "(n (\\eta - 1)^2 + \\eta^2) < 1\n",
        "$\n",
        "\n",
        "$\n",
        "(n (\\eta^2 - 2\\eta +1) + \\eta^2) < 1\n",
        "$\n",
        "\n",
        "$\n",
        "n < \\frac{(1- \\eta^2)}{(\\eta^2 - 2\\eta +1)}\n",
        "$\n",
        "\n",
        "$n < 5,5178$\n",
        "\n",
        "Alors, il est possible de constater que pour les valeurs de $n$ plus bas que $5,5178$ le risque quadratique de l'estimateur $ \\tilde{T}_{1,\\eta}(X)$ est plus bas que le risque quadratique de l'estimateur $T_{1}(X)$. L'analyse graphique ci-dessous avec cette constatation.\n"
      ],
      "metadata": {
        "id": "CIfq82lR8IlX"
      }
    },
    {
      "cell_type": "code",
      "source": [
        "λ = 1/T1\n",
        "\n",
        "n = np.linspace(0.1, len(v_cost))\n",
        "\n",
        "R1 = 1/(n*(λ**2))\n",
        "R1η = (1/(λ**2))*((η-1)**2 + (η**2)/n)\n",
        "\n",
        "plt.plot(n, R1, color='red')\n",
        "plt.plot(n, R1η, color = 'blue')\n",
        "plt.title(r\"Risque quadratique\")\n",
        "plt.legend([r\"$R\\left(\\lambda, T_1\\left(X\\right)\\right)$\", r\"$R\\left(\\lambda, \\tilde{T}_{1, \\eta}\\left(X\\right)\\right)$\"])\n",
        "plt.xlabel(\"n\")\n",
        "plt.ylabel(\"Risques Quadratiques\")\n",
        "plt.xlim(n[0], n[-1])\n",
        "plt.show()\n",
        "\n",
        "n = (1- η**2)/(η**2-2*η+1)\n",
        "print('n =', n)"
      ],
      "metadata": {
        "colab": {
          "base_uri": "https://localhost:8080/",
          "height": 313
        },
        "id": "Gfr29DHHPPBi",
        "outputId": "9b14d50b-1e2a-4689-f4a9-4a19fe64c6b2"
      },
      "execution_count": null,
      "outputs": [
        {
          "output_type": "display_data",
          "data": {
            "text/plain": [
              "<Figure size 432x288 with 1 Axes>"
            ],
            "image/png": "[encoded data removed]"
          },
          "metadata": {
            "needs_background": "light"
          }
        },
        {
          "output_type": "stream",
          "name": "stdout",
          "text": [
            "n = 5.517782706541858\n"
          ]
        }
      ]
    },
    {
      "cell_type": "markdown",
      "source": [
        "# 3)"
      ],
      "metadata": {
        "id": "OvnRBhxlSOR5"
      }
    },
    {
      "cell_type": "markdown",
      "source": [
        "## 3.1)"
      ],
      "metadata": {
        "id": "1oWF41TCSRrc"
      }
    },
    {
      "cell_type": "markdown",
      "source": [
        "Les $n$ coûts $X$ des accidents sont exprimés en millions de dollars, alors l'hypothèse:\n",
        "\n",
        "$\n",
        "H_{1}: \\frac{1}{\\lambda} < 1000\n",
        "$\n",
        "\n",
        "Et l'hypothèse nulle:\n",
        "\n",
        "$\n",
        "H_{0}: \\frac{1}{\\lambda} \\geq 1000\n",
        "$\n",
        "\n"
      ],
      "metadata": {
        "id": "YzDNjngJQPRV"
      }
    },
    {
      "cell_type": "markdown",
      "source": [
        "## 3.2)"
      ],
      "metadata": {
        "id": "RX6iz8GUaDJZ"
      }
    },
    {
      "cell_type": "markdown",
      "source": [
        "\n",
        "Par définition, pour un test unilatéral comme le défini, il est possible d'établir un test UPP de façon que le rapport de vraisemblance est monotone.\n",
        "\n",
        "S'appuyant sur l'hypothèse que le modèle statistique donné est dominé et il existe une statistique scalaire T(X) telle que pour tout λ et λ' tels que $\n",
        "\\lambda < \\lambda'$ le rapport de vraisemblance est une fonction strictement croissante de T(X) sur son ensemble de définition, écrite comme le suit:\n",
        "\n",
        "$\\frac{L(λ')}{L(\\lambda)}=\\frac{λ'^{(n)}e^{-λ'\\sum\\limits_{k=1}^{n}x_{k}}}{λ^{n}e^{-λ\\sum\\limits_{k=1}^{n}x_{k}}} = (\\frac{\\lambda'}{\\lambda})^n e^{-(λ'-\\lambda)\\sum\\limits_{k=1}^{n}x_{k}} $\n",
        "\n",
        "Étant donné le théorème de Karlin-Rubin et en considérant le modèle des lois exponentielles, avec densité de probabilité dans la forme:\n",
        "\n",
        "$\n",
        "f(x) = g(\\lambda) h(x) e^{(\\eta(\\lambda) T(x))}\n",
        "$\n",
        "\n",
        "Nous trouvons que:\n",
        "\n",
        "$T(X) = \\sum\\limits_{k=1}^{n}x_{k} $\n",
        "\n",
        "et\n",
        "\n",
        "$\\eta(\\lambda) = \\lambda - λ'$.\n",
        "\n",
        "\n",
        "Soit $\\eta(\\lambda)$ non-décroissante, alors le modèle de loi exponentielle en question a un rapport de vraisemblance monotone dans la statistique $T(x)$.  Pour un test d'hypothèse unilatéral, il est possible de trouver un test UPP en sachant que le rapport de vraisemblance est monotone.\n",
        "\n",
        "En plus, pour un rapport de vraisemblance monotone, le test:\n",
        "\n",
        "$\\delta(x) = 1_{(T(X)>c)}$\n",
        "\n",
        "est UPP pour tout $c>0$. Alors:\n",
        "\n",
        "$P_{\\lambda}(T(X)>c|λ)=α$\n",
        "\n",
        "$P_{\\lambda}(\\sum\\limits_{k=1}^{n}x_{k}>c|λ=\\frac{1}{1000})=α$\n",
        "\n",
        "Soit l'ensemble de données indépendents et identiquement distribué de loi exponentielle avec un paramètre $\\lambda$, il est possible d'affirmer que:\n",
        "\n",
        "$\\sum\\limits_{k=1}^{n}x_{k} \\sim Gamma(n, \\lambda)$\n",
        "\n",
        "Par conséquent, il est possible d'écrire que la probabilité de $T(X) > c$ est égal à la probabilité que $T(X)$ est plus grand ou égal à la fonction quantile:\n",
        "\n",
        "$c = F^{-1}_{Gamma(n, \\frac{1}{λ})}(\\alpha)$"
      ],
      "metadata": {
        "id": "kebAdt5vaHFH"
      }
    },
    {
      "cell_type": "markdown",
      "source": [
        "## 3.3)"
      ],
      "metadata": {
        "id": "bgS4ZTFKWAw1"
      }
    },
    {
      "cell_type": "code",
      "source": [
        "p_valeur = stats.gamma.cdf(x=v_cost.sum(),a=v_cost.size, scale=1000)\n",
        "print(\"p-value:\",p_valeur)"
      ],
      "metadata": {
        "colab": {
          "base_uri": "https://localhost:8080/"
        },
        "id": "35imdqUEWDo3",
        "outputId": "34e9b5d8-af7d-499e-ae5a-e287eea4982d"
      },
      "execution_count": null,
      "outputs": [
        {
          "output_type": "stream",
          "name": "stdout",
          "text": [
            "p-value: 0.013717486423264914\n"
          ]
        }
      ]
    },
    {
      "cell_type": "markdown",
      "source": [
        "## 3.4)"
      ],
      "metadata": {
        "id": "WLHwbeDQX_7R"
      }
    },
    {
      "cell_type": "code",
      "source": [
        "g=stats.gamma(a=v_cost.size, scale=1000)\n",
        "linspace_rejection = np.linspace(g.ppf(0.0001),  g.ppf(0.05))\n",
        "plt.plot(np.arange(500,1500), g.pdf(x=np.arange(500*55,1500*55,55)))\n",
        "plt.axvline(g.ppf(0.05)/55,color='r',label=\"La région de rejet\")\n",
        "plt.fill_between(linspace_rejection/55, g.pdf(x=linspace_rejection), color='r')\n",
        "plt.legend(loc=\"upper right\")\n",
        "plt.show()\n",
        "print(\"Point critique =\",g.ppf(0.05)/55)"
      ],
      "metadata": {
        "colab": {
          "base_uri": "https://localhost:8080/",
          "height": 294
        },
        "id": "L-m148o2YCTd",
        "outputId": "c48377b8-a79e-449e-df48-de8ea7557e65"
      },
      "execution_count": null,
      "outputs": [
        {
          "output_type": "display_data",
          "data": {
            "text/plain": [
              "<Figure size 432x288 with 1 Axes>"
            ],
            "image/png": "[encoded data removed]"
          },
          "metadata": {
            "needs_background": "light"
          }
        },
        {
          "output_type": "stream",
          "name": "stdout",
          "text": [
            "Point critique = 789.0147974522821\n"
          ]
        }
      ]
    },
    {
      "cell_type": "markdown",
      "source": [
        "## 3.5)"
      ],
      "metadata": {
        "id": "uK2fx7rMfp5b"
      }
    },
    {
      "cell_type": "markdown",
      "source": [
        "En statistique, la puissance statistique d'un test est la probabilité de rejeter l'hypothèse nulle.\n",
        "\n",
        "En observant la courbe ci-dessous il est possible de constater que l'augmentation de l'échantillon provoque une augmentation de la probabilité que le paramètre $\\lambda$ soit plus grand que $10^{-3}$, e.g. $H_{0}$ soit rejeté."
      ],
      "metadata": {
        "id": "vUQFWGNHljgy"
      }
    },
    {
      "cell_type": "code",
      "source": [
        "# Defines the sample sizes and λ arrays\n",
        "sample_sizes = [10, 50, 100, 500, 100000]\n",
        "λ = np.linspace(1E-9, 5*10**(-3), 1000)\n",
        "\n",
        "# Plots the power function for every n in sample_sizes\n",
        "for n in sample_sizes:\n",
        "    limit = stats.gamma.ppf(q=0.05, a=n, scale=1000)\n",
        "    power_fcn = stats.gamma.cdf(x=limit, a=n, scale=1/λ)\n",
        "    plt.plot(λ, power_fcn)\n",
        "\n",
        "# Adds some details to the plot\n",
        "plt.title(r\"Fonction de puissance avec $\\alpha = 0.05$ en fonction de $\\lambda$\")\n",
        "plt.legend([f\"n = {n}\" for n in sample_sizes])\n",
        "plt.xlabel(\"λ\")\n",
        "plt.ylabel(\"Fonction de Puissance\")\n",
        "plt.show()"
      ],
      "metadata": {
        "colab": {
          "base_uri": "https://localhost:8080/",
          "height": 297
        },
        "id": "7nwWbicKj6pk",
        "outputId": "dc730fd9-0a2f-46b5-963a-69fd7f12398f"
      },
      "execution_count": null,
      "outputs": [
        {
          "output_type": "display_data",
          "data": {
            "text/plain": [
              "<Figure size 432x288 with 1 Axes>"
            ],
            "image/png": "[encoded data removed]"
          },
          "metadata": {
            "needs_background": "light"
          }
        }
      ]
    },
    {
      "cell_type": "markdown",
      "source": [
        "## 3.6)"
      ],
      "metadata": {
        "id": "pcKc2lHptcUJ"
      }
    },
    {
      "cell_type": "markdown",
      "source": [
        "Selon le théorème de la limite centrale, une somme de variables aléatoires indépendantes et identiquement distribuées tend, le plus souvent, vers une variable aléatoire.\n",
        "\n",
        "En supposant $X_{1},X_{2},...,X_{n}$ i.i.d. et que l'on calcule la moyenne arithmétique des valeurs observées plusieurs fois, alors le théorème centrale limite indique que la distribution de probabilité de la moyenne se rapprochera d'une distribution normale.\n",
        "\n",
        "Dans ce cas:\n",
        "\n",
        "$E(X_{i}=\\frac{1}{λ})$ et $Var(X_{i}=\\frac{1}{λ^2})$\n",
        "\n",
        "Alors:\n",
        "\n",
        "$\\frac{1}{n} \\sum\\limits_{i=1}^{n}X_{i}\n",
        " \\sim \\mathcal{N}(\\frac{n}{\\lambda}, \\frac{n}{\\lambda^{2}})$\n",
        "\n",
        " Selon la question 3.2, la région de rejet est:\n",
        "\n",
        " $\\sum\\limits_{i=1}^{n}X_{i} > k'$\n",
        "\n",
        " $\\alpha = sup_{\\lambda \\in \\lambda_{0}}(\\sum\\limits_{i=1}^{n}X_{i} > k' | λ=\\frac{1}{1000})$\n",
        "\n",
        "Notons la fonction de répartition de $\\mathcal{N}(\\frac{n}{\\lambda}, \\frac{n}{\\lambda^{2}})$ comme $F'$ alors:\n",
        "\n",
        "$k' = F' ^{-1} (1-α)$\n",
        "\n",
        "\n",
        "\n"
      ],
      "metadata": {
        "id": "6Xvo0o3Avk4t"
      }
    },
    {
      "cell_type": "code",
      "source": [
        "n=stats.norm.pdf(x=np.arange(500,1500), loc=1000, scale=1/math.sqrt(v_cost.count())*1000)\n",
        "plt.plot(np.arange(500,1500),n)\n",
        "plt.axvline(1000-(1.64*1000)/math.sqrt(v_cost.count()),color='r',label=\"La région de rejet\")\n",
        "plt.axvline(v_cost.mean(),color='g',label=\"moyenne des données\")\n",
        "plt.legend(loc=\"upper right\")\n",
        "plt.show()\n",
        "print(\"Le point critique est égal à: \",(1000-(1.64*1000)/math.sqrt(v_cost.count())))"
      ],
      "metadata": {
        "colab": {
          "base_uri": "https://localhost:8080/",
          "height": 283
        },
        "id": "rMw6iYuSOKwi",
        "outputId": "a258ffa0-1ca5-442e-e10a-1b490aaeaba7"
      },
      "execution_count": null,
      "outputs": [
        {
          "output_type": "display_data",
          "data": {
            "text/plain": [
              "<Figure size 432x288 with 1 Axes>"
            ],
            "image/png": "[encoded data removed]"
          },
          "metadata": {
            "needs_background": "light"
          }
        },
        {
          "output_type": "stream",
          "name": "stdout",
          "text": [
            "Le point critique est égal à:  778.8624451120565\n"
          ]
        }
      ]
    }
  ]
}